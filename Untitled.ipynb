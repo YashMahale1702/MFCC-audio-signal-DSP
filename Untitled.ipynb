{
 "cells": [
  {
   "cell_type": "code",
   "execution_count": 3,
   "id": "fd8c69db",
   "metadata": {},
   "outputs": [],
   "source": [
    "import matplotlib.pyplot as plt"
   ]
  },
  {
   "cell_type": "code",
   "execution_count": 4,
   "id": "1b8d831b",
   "metadata": {},
   "outputs": [
    {
     "ename": "NameError",
     "evalue": "name 'filter_data' is not defined",
     "output_type": "error",
     "traceback": [
      "\u001b[1;31m---------------------------------------------------------------------------\u001b[0m",
      "\u001b[1;31mNameError\u001b[0m                                 Traceback (most recent call last)",
      "\u001b[1;32m~\\AppData\\Local\\Temp/ipykernel_14000/660451858.py\u001b[0m in \u001b[0;36m<module>\u001b[1;34m\u001b[0m\n\u001b[1;32m----> 1\u001b[1;33m \u001b[0mspike_data\u001b[0m \u001b[1;33m=\u001b[0m \u001b[0mfilter_data\u001b[0m\u001b[1;33m(\u001b[0m\u001b[0mdata\u001b[0m\u001b[1;33m,\u001b[0m \u001b[0mlow\u001b[0m\u001b[1;33m=\u001b[0m\u001b[1;36m500\u001b[0m\u001b[1;33m,\u001b[0m \u001b[0mhigh\u001b[0m\u001b[1;33m=\u001b[0m\u001b[1;36m9000\u001b[0m\u001b[1;33m,\u001b[0m \u001b[0msf\u001b[0m\u001b[1;33m=\u001b[0m\u001b[0msf\u001b[0m\u001b[1;33m)\u001b[0m\u001b[1;33m\u001b[0m\u001b[1;33m\u001b[0m\u001b[0m\n\u001b[0m\u001b[0;32m      2\u001b[0m \u001b[1;33m\u001b[0m\u001b[0m\n\u001b[0;32m      3\u001b[0m \u001b[1;31m# Plot signals\u001b[0m\u001b[1;33m\u001b[0m\u001b[1;33m\u001b[0m\u001b[1;33m\u001b[0m\u001b[0m\n\u001b[0;32m      4\u001b[0m \u001b[0mfig\u001b[0m\u001b[1;33m,\u001b[0m \u001b[0max\u001b[0m \u001b[1;33m=\u001b[0m \u001b[0mplt\u001b[0m\u001b[1;33m.\u001b[0m\u001b[0msubplots\u001b[0m\u001b[1;33m(\u001b[0m\u001b[1;36m2\u001b[0m\u001b[1;33m,\u001b[0m \u001b[1;36m1\u001b[0m\u001b[1;33m,\u001b[0m \u001b[0mfigsize\u001b[0m\u001b[1;33m=\u001b[0m\u001b[1;33m(\u001b[0m\u001b[1;36m15\u001b[0m\u001b[1;33m,\u001b[0m \u001b[1;36m5\u001b[0m\u001b[1;33m)\u001b[0m\u001b[1;33m)\u001b[0m\u001b[1;33m\u001b[0m\u001b[1;33m\u001b[0m\u001b[0m\n\u001b[0;32m      5\u001b[0m \u001b[0max\u001b[0m\u001b[1;33m[\u001b[0m\u001b[1;36m0\u001b[0m\u001b[1;33m]\u001b[0m\u001b[1;33m.\u001b[0m\u001b[0mplot\u001b[0m\u001b[1;33m(\u001b[0m\u001b[0mtime\u001b[0m\u001b[1;33m[\u001b[0m\u001b[1;36m0\u001b[0m\u001b[1;33m:\u001b[0m\u001b[0msf\u001b[0m\u001b[1;33m]\u001b[0m\u001b[1;33m,\u001b[0m \u001b[0mdata\u001b[0m\u001b[1;33m[\u001b[0m\u001b[1;36m0\u001b[0m\u001b[1;33m:\u001b[0m\u001b[0msf\u001b[0m\u001b[1;33m]\u001b[0m\u001b[1;33m)\u001b[0m\u001b[1;33m\u001b[0m\u001b[1;33m\u001b[0m\u001b[0m\n",
      "\u001b[1;31mNameError\u001b[0m: name 'filter_data' is not defined"
     ]
    }
   ],
   "source": [
    "spike_data = filter_data(data, low=500, high=9000, sf=sf)\n",
    "\n",
    "# Plot signals\n",
    "fig, ax = plt.subplots(2, 1, figsize=(15, 5))\n",
    "ax[0].plot(time[0:sf], data[0:sf])\n",
    "ax[0].set_xticks([])\n",
    "ax[0].set_title('Broadband', fontsize=23)\n",
    "ax[0].set_xlim(0, time[sf])\n",
    "ax[0].set_ylabel('amplitude [uV]', fontsize=16)\n",
    "ax[0].tick_params(labelsize=12)\n",
    "\n",
    "ax[1].plot(time[0:sf], spike_data[0:sf])\n",
    "ax[1].set_title('Spike channel [0.5 to 9kHz]', fontsize=23)\n",
    "ax[1].set_xlim(0, time[sf])\n",
    "ax[1].set_xlabel('time [s]', fontsize=20)\n",
    "ax[1].set_ylabel('amplitude [uV]', fontsize=16)\n",
    "ax[1].tick_params(labelsize=12)\n",
    "plt.show()"
   ]
  },
  {
   "cell_type": "code",
   "execution_count": null,
   "id": "de35aedb",
   "metadata": {},
   "outputs": [],
   "source": [
    "# Prajwal: # Define data path\n",
    "data_file = 'C:/Users/HP/Desktop/python/UCLA_data/CSC4.Ncs'\n",
    "\n",
    "# Header has 16 kilobytes length\n",
    "header_size   = 16 * 1024  \n",
    "\n",
    "# Open file\n",
    "fid = open(data_file, 'rb')\n",
    "\n",
    "# Skip header by shifting position by header size\n",
    "fid.seek(header_size)\n",
    "\n",
    "# Read data according to Neuralynx information\n",
    "data_format = np.dtype([('TimeStamp', np.uint64),\n",
    "                        ('ChannelNumber', np.uint32),\n",
    "                        ('SampleFreq', np.uint32),\n",
    "                        ('NumValidSamples', np.uint32),\n",
    "                        ('Samples', np.int16, 512)])\n",
    "\n",
    "raw = np.fromfile(fid, dtype=data_format)\n",
    "\n",
    "# Close file\n",
    "fid.close()\n",
    "\n",
    "# Get sampling frequency\n",
    "sf = raw['SampleFreq'][0]\n",
    "\n",
    "# Create data vector\n",
    "data = raw['Samples'].ravel()\n",
    "\n",
    "# Determine duration of recording in seconds\n",
    "dur_sec = data.shape[0]/sf\n",
    "\n",
    "# Create time vector\n",
    "time = np.linspace(0, dur_sec,data.shape[0])\n",
    "\n",
    "# Plot first second of data\n",
    "fig, ax = plt.subplots(figsize=(15, 5))\n",
    "ax.plot(time[0:sf], data[0:sf])\n",
    "ax.set_title('Broadband; Sampling Frequency: {}Hz'.format(sf), fontsize=23)\n",
    "ax.set_xlim(0, time[sf])\n",
    "ax.set_xlabel('time [s]', fontsize=20)\n",
    "ax.set_ylabel('amplitude [uV]', fontsize=20)\n",
    "plt.show()\n",
    "\n",
    "def filter_data(data, low, high, sf, order=2):\n",
    "    # Determine Nyquist frequency\n",
    "    nyq = sf/2\n",
    "\n",
    "    # Set bands\n",
    "    low = low/nyq\n",
    "    high = high/nyq\n",
    "\n",
    "    # Calculate coefficients\n",
    "    b, a = butter(order, [low, high], btype='band')\n",
    "\n",
    "    # Filter signal\n",
    "    filtered_data = lfilter(b, a, data)\n",
    "    \n",
    "    return filtered_data"
   ]
  }
 ],
 "metadata": {
  "kernelspec": {
   "display_name": "Python 3 (ipykernel)",
   "language": "python",
   "name": "python3"
  },
  "language_info": {
   "codemirror_mode": {
    "name": "ipython",
    "version": 3
   },
   "file_extension": ".py",
   "mimetype": "text/x-python",
   "name": "python",
   "nbconvert_exporter": "python",
   "pygments_lexer": "ipython3",
   "version": "3.8.11"
  }
 },
 "nbformat": 4,
 "nbformat_minor": 5
}
